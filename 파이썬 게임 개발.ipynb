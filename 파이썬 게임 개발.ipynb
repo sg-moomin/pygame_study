{
 "cells": [
  {
   "cell_type": "code",
   "execution_count": 1,
   "id": "870ad26b",
   "metadata": {},
   "outputs": [
    {
     "name": "stdout",
     "output_type": "stream",
     "text": [
      "Collecting pygame\n",
      "  Downloading pygame-2.1.2-cp39-cp39-win_amd64.whl (8.4 MB)\n",
      "Installing collected packages: pygame\n",
      "Successfully installed pygame-2.1.2\n",
      "Note: you may need to restart the kernel to use updated packages.\n"
     ]
    },
    {
     "name": "stderr",
     "output_type": "stream",
     "text": [
      "WARNING: You are using pip version 21.3.1; however, version 22.0.4 is available.\n",
      "You should consider upgrading via the 'C:\\ProgramData\\Anaconda3\\python.exe -m pip install --upgrade pip' command.\n"
     ]
    }
   ],
   "source": [
    "# pygame 설치\n",
    "pip install pygame"
   ]
  },
  {
   "cell_type": "code",
   "execution_count": 14,
   "id": "a0b57a0d",
   "metadata": {},
   "outputs": [
    {
     "name": "stdout",
     "output_type": "stream",
     "text": [
      "rock attack!\n",
      "rock attack!\n",
      "rock attack!\n",
      "rock attack!\n",
      "rock attack!\n",
      "rock attack!\n"
     ]
    }
   ],
   "source": [
    "import pygame \n",
    "import random  \n",
    "\n",
    "pygame.init()\n",
    "SCREEN_WIDTH = 600\n",
    "SCREEN_HEIGHT = 800\n",
    "screen = pygame.display.set_mode((SCREEN_WIDTH, SCREEN_HEIGHT)) \n",
    "clock = pygame.time.Clock() \n",
    "\n",
    "# 이미지 위치 \n",
    "location_url = 'asset/shoot_rock/'\n",
    "\n",
    "#화면 색상 변수\n",
    "screenColor_Black = (0, 0, 0)\n",
    "screenColor_Red = (255, 0, 0)\n",
    "screenColor_Green = (0, 255, 0)\n",
    "screenColor_Blue = (0, 0, 255)\n",
    "screenColor_White = (255, 255, 255)\n",
    "screenColor_Gray = (128, 128, 128)\n",
    "screenColor_Yellow = (255, 255, 0)\n",
    "\n",
    "# 이미지 변수 생성 \n",
    "background_image = pygame.image.load(location_url + 'background.png')\n",
    "rock_image = pygame.image.load(location_url + 'rock.png')\n",
    "fighter_image = pygame.image.load(location_url + 'fighter.png')\n",
    "attack_image = pygame.image.load(location_url + 'missile.png')\n",
    "\n",
    "\n",
    "# 변수 및 배열 선언\n",
    "fighter = fighter_image.get_rect(centerx=SCREEN_WIDTH // 2, bottom=SCREEN_HEIGHT)\n",
    "rocks = []\n",
    "attacks = []\n",
    "\n",
    "for i in range(3):\n",
    "    rock = rock_image.get_rect(left=random.randint(0, SCREEN_WIDTH - rock_image.get_width()), top= -100)\n",
    "    rocks.append(rock)\n",
    "\n",
    "# pygame.key.set_repeat(1, 1)\n",
    "\n",
    "while True: #게임 루프\n",
    "    # 화면 지우기 - 검은색\n",
    "    screen.fill(screenColor_Black)  \n",
    "    screen.blit(background_image, (0, 0))\n",
    "\n",
    "    #변수 업데이트\n",
    "\n",
    "    event = pygame.event.poll() #이벤트 처리\n",
    "    if event.type == pygame.QUIT:\n",
    "        break\n",
    "    elif event.type == pygame.KEYDOWN:\n",
    "        if event.key == pygame.K_SPACE:\n",
    "            attack = pygame.Rect(attack_image.get_rect(centerx=fighter.centerx, top=fighter.top))\n",
    "            attacks.append(attack)\n",
    "        \n",
    "    pressed = pygame.key.get_pressed()\n",
    "    if pressed[pygame.K_LEFT]:\n",
    "        fighter.left -= 5\n",
    "    elif pressed[pygame.K_RIGHT]:\n",
    "        fighter.left += 5\n",
    "    \n",
    "    # 장애물 로직\n",
    "    for rock in rocks:\n",
    "        rock.top += 5\n",
    "        if rock.top > SCREEN_HEIGHT:\n",
    "            rocks.remove(rock)\n",
    "            rock = rock_image.get_rect(left=random.randint(0, SCREEN_WIDTH - rock_image.get_width()), top= -100)\n",
    "            rocks.append(rock)\n",
    "            \n",
    "    # 공격 로직\n",
    "    for attack in attacks:\n",
    "        attack.top -= 6\n",
    "        if attack.top < 0:\n",
    "            attacks.remove(attack)\n",
    "    \n",
    "    \n",
    "    # 비행기 이동 로직 \n",
    "    if fighter.left < 0:\n",
    "        fighter.left = 0\n",
    "    elif fighter.right > SCREEN_WIDTH:\n",
    "        fighter.right = SCREEN_WIDTH\n",
    "    \n",
    "    # 장애물 격파 로직 \n",
    "    for rock in rocks:\n",
    "        for attack in attacks:\n",
    "            if attack.colliderect(rock):\n",
    "                print(\"rock attack!\")\n",
    "                rocks.remove(rock)\n",
    "                attacks.remove(attack)\n",
    "                rock = rock_image.get_rect(left=random.randint(0, SCREEN_WIDTH - rock_image.get_width()), top= -100)\n",
    "                rocks.append(rock)\n",
    "    \n",
    "    #화면 그리기\n",
    "    \n",
    "    for rock in rocks:\n",
    "        screen.blit(rock_image, rock)\n",
    "    \n",
    "    for attack in attacks:\n",
    "        screen.blit(attack_image, attack)\n",
    "    \n",
    "    \n",
    "    screen.blit(fighter_image, fighter)\n",
    "    \n",
    "    \n",
    "    pygame.display.update() \n",
    "    # FPS 프레임\n",
    "    clock.tick(30) \n",
    "    \n",
    "    \n",
    "pygame.quit() "
   ]
  }
 ],
 "metadata": {
  "kernelspec": {
   "display_name": "Python 3 (ipykernel)",
   "language": "python",
   "name": "python3"
  },
  "language_info": {
   "codemirror_mode": {
    "name": "ipython",
    "version": 3
   },
   "file_extension": ".py",
   "mimetype": "text/x-python",
   "name": "python",
   "nbconvert_exporter": "python",
   "pygments_lexer": "ipython3",
   "version": "3.9.7"
  }
 },
 "nbformat": 4,
 "nbformat_minor": 5
}
